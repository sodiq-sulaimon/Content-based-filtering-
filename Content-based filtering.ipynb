{
 "cells": [
  {
   "cell_type": "markdown",
   "id": "bd0f550e",
   "metadata": {},
   "source": [
    "#### Exercise 1\n",
    "Use a Keras sequential model\n",
    "The first layer is a dense layer with 256 units and a relu activation.\n",
    "The second layer is a dense layer with 128 units and a relu activation.\n",
    "The third layer is a dense layer with num_outputs units and a linear or no activation."
   ]
  },
  {
   "cell_type": "code",
   "execution_count": 3,
   "id": "8d9b8bc6",
   "metadata": {},
   "outputs": [],
   "source": [
    "import numpy as np\n",
    "import tensorflow as tf"
   ]
  },
  {
   "cell_type": "code",
   "execution_count": 5,
   "id": "c2fd0fea",
   "metadata": {},
   "outputs": [],
   "source": [
    "num_outputs = 32\n",
    "\n",
    "user_NN = tf.keras.models.Sequential([\n",
    "    tf.keras.layers.Dense(units=256, activation='relu'),\n",
    "    tf.keras.layers.Dense(units=128, activation='relu'),\n",
    "    tf.keras.layers.Dense(units=num_outputs) \n",
    "])\n",
    "\n",
    "item_NN = tf.keras.models.Sequential([\n",
    "    tf.keras.layers.Dense(units=256, activation='relu'),\n",
    "    tf.keras.layers.Dense(units=128, activation='relu'),\n",
    "    tf.keras.layers.Dense(units=num_outputs)\n",
    "])\n"
   ]
  },
  {
   "cell_type": "markdown",
   "id": "0a5cc309",
   "metadata": {},
   "source": [
    "#### Exercise 2\n",
    "Write a function to compute the square distance."
   ]
  },
  {
   "cell_type": "code",
   "execution_count": 6,
   "id": "042c75df",
   "metadata": {},
   "outputs": [],
   "source": [
    "def sq_dist(a,b):\n",
    "   \n",
    "    d = np.sum(np.square(a - b))\n",
    "    \n",
    "    return d"
   ]
  },
  {
   "cell_type": "code",
   "execution_count": null,
   "id": "1ee86b31",
   "metadata": {},
   "outputs": [],
   "source": []
  }
 ],
 "metadata": {
  "kernelspec": {
   "display_name": "Python 3 (ipykernel)",
   "language": "python",
   "name": "python3"
  },
  "language_info": {
   "codemirror_mode": {
    "name": "ipython",
    "version": 3
   },
   "file_extension": ".py",
   "mimetype": "text/x-python",
   "name": "python",
   "nbconvert_exporter": "python",
   "pygments_lexer": "ipython3",
   "version": "3.9.12"
  }
 },
 "nbformat": 4,
 "nbformat_minor": 5
}
